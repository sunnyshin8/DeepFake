{
 "cells": [
  {
   "cell_type": "code",
   "execution_count": 96,
   "metadata": {},
   "outputs": [],
   "source": [
    "import os\n",
    "import shutil\n",
    "import random\n",
    "import tensorflow as tf\n",
    "from tensorflow.keras import layers, Model\n",
    "import numpy as np\n",
    "from tensorflow.keras.applications import EfficientNetB0\n",
    "from tensorflow.keras.preprocessing.image import ImageDataGenerator\n",
    "from tensorflow.keras.applications import Xception\n",
    "from tensorflow.keras.layers import GlobalAveragePooling2D, BatchNormalization, Dense, Dropout, concatenate\n",
    "from tensorflow.keras import layers, models\n",
    "from tensorflow.keras.callbacks import EarlyStopping\n",
    "import matplotlib.pyplot as plt\n",
    "import numpy as np\n",
    "from sklearn.metrics import confusion_matrix, classification_report\n",
    "import seaborn as sns\n"
   ]
  },
  {
   "cell_type": "code",
   "execution_count": 97,
   "metadata": {},
   "outputs": [],
   "source": [
    "import pathlib \n",
    "aigenrated_dir = pathlib.Path('aigenrated')\n",
    "orginal_dir = pathlib.Path('Original')"
   ]
  },
  {
   "cell_type": "code",
   "execution_count": 98,
   "metadata": {},
   "outputs": [
    {
     "name": "stdout",
     "output_type": "stream",
     "text": [
      "Unique labels after conversion: [0 1]\n"
     ]
    }
   ],
   "source": [
    "import numpy as np\n",
    "\n",
    "dirlist = [aigenrated_dir, orginal_dir]\n",
    "classes = ['No', 'Yes']\n",
    "filepaths = []\n",
    "labels = []\n",
    "\n",
    "for i, j in zip(dirlist, classes):\n",
    "    filelist = os.listdir(i)\n",
    "    for f in filelist:\n",
    "        filepath = os.path.join(i, f)\n",
    "        filepaths.append(filepath)\n",
    "        labels.append(j)  \n",
    "\n",
    "# Convert labels to numerical values (0 or 1)\n",
    "label_map = {'No': 0, 'Yes': 1}\n",
    "labels = np.array([label_map[label] for label in labels], dtype=np.int32)\n",
    "\n",
    "# Convert filepaths to NumPy array\n",
    "filepaths = np.array(filepaths)\n",
    "\n",
    "print(\"Unique labels after conversion:\", np.unique(labels))\n"
   ]
  },
  {
   "cell_type": "code",
   "execution_count": 99,
   "metadata": {},
   "outputs": [
    {
     "name": "stdout",
     "output_type": "stream",
     "text": [
      "Label distribution before split: [0 1] [ 3424 42989]\n"
     ]
    }
   ],
   "source": [
    "# Check label distribution\n",
    "unique_labels, counts = np.unique(labels, return_counts=True)\n",
    "print(\"Label distribution before split:\", unique_labels, counts)\n",
    "\n",
    "# Ensure stratification works\n",
    "if len(unique_labels) < 2:\n",
    "    raise ValueError(\"Labels contain only one class. Check dataset.\")\n"
   ]
  },
  {
   "cell_type": "code",
   "execution_count": null,
   "metadata": {},
   "outputs": [
    {
     "name": "stdout",
     "output_type": "stream",
     "text": [
      "Unique labels in validation set after re-splitting: [0 1]\n",
      "Counts: [ 685 8598]\n",
      "Training samples: 37130\n",
      "Validation samples: 9283\n"
     ]
    }
   ],
   "source": [
    "from sklearn.model_selection import train_test_split\n",
    "\n",
    "# Re-split the data with stratification\n",
    "train_paths, temp_paths, train_labels, temp_labels = train_test_split(\n",
    "    filepaths, labels, test_size=0.25, random_state=42, stratify=labels\n",
    ")\n",
    "\n",
    "# Further split the temp set into validation and test sets\n",
    "test_paths, val_paths, test_labels, val_labels = train_test_split(\n",
    "    temp_paths, temp_labels, test_size=0.3, random_state=42, stratify=temp_labels\n",
    ")\n",
    "\n",
    "# Verify the validation set\n",
    "unique_labels, counts = np.unique(val_labels, return_counts=True)\n",
    "print(\"Unique labels in validation set after re-splitting:\", unique_labels)\n",
    "print(\"Counts:\", counts)\n",
    "\n",
    "print(f\"Training samples: {len(train_paths)}\")\n",
    "print(f\"Validation samples: {len(val_paths)}\")\n"
   ]
  },
  {
   "cell_type": "code",
   "execution_count": 102,
   "metadata": {},
   "outputs": [],
   "source": [
    "# Create custom data generators\n",
    "def generate_data_from_paths(paths, labels, datagen, batch_size, is_training=True):\n",
    "    num_samples = len(paths)\n",
    "    while True:\n",
    "        # Shuffle for training\n",
    "        if is_training:\n",
    "            indices = np.random.permutation(num_samples)\n",
    "            paths = paths[indices]\n",
    "            labels = labels[indices]\n",
    "        \n",
    "        for idx in range(0, num_samples, batch_size):\n",
    "            batch_paths = paths[idx:idx + batch_size]\n",
    "            batch_labels = labels[idx:idx + batch_size]\n",
    "            \n",
    "            # Load and preprocess images\n",
    "            batch_images = []\n",
    "            for path in batch_paths:\n",
    "                img = tf.keras.preprocessing.image.load_img(\n",
    "                    path, \n",
    "                    target_size=(IMG_SIZE, IMG_SIZE)\n",
    "                )\n",
    "                img = tf.keras.preprocessing.image.img_to_array(img)\n",
    "                img = datagen.random_transform(img) if is_training else img\n",
    "                img = img / 255.0  \n",
    "                batch_images.append(img)\n",
    "            \n",
    "            yield np.array(batch_images), np.array(batch_labels)\n",
    "\n",
    "# Define datagen and batch_size\n",
    "train_datagen = ImageDataGenerator(\n",
    "    rescale=1./255,\n",
    "    rotation_range=40,  \n",
    "    width_shift_range=0.3, \n",
    "    height_shift_range=0.3, \n",
    "    shear_range=0.3,  \n",
    "    zoom_range=0.3,  \n",
    "    horizontal_flip=True,\n",
    "    vertical_flip=True,  \n",
    "    fill_mode='nearest'\n",
    ")\n",
    "\n",
    "val_datagen = ImageDataGenerator(rescale=1./255)\n",
    "\n",
    "IMG_SIZE = 224  \n",
    "BATCH_SIZE = 32\n",
    "\n",
    "# Create generators\n",
    "train_generator = generate_data_from_paths(\n",
    "    train_paths, train_labels, train_datagen, BATCH_SIZE, is_training=True\n",
    ")\n",
    "\n",
    "val_generator = generate_data_from_paths(\n",
    "    val_paths, val_labels, val_datagen, BATCH_SIZE, is_training=False\n",
    ")"
   ]
  },
  {
   "cell_type": "code",
   "execution_count": 103,
   "metadata": {},
   "outputs": [],
   "source": [
    "def create_hybrid_model():\n",
    "    # Load EfficientNetB0\n",
    "    efficientnet = EfficientNetB0(\n",
    "        weights='imagenet',\n",
    "        include_top=False,\n",
    "        input_shape=(224, 224, 3)\n",
    "    )\n",
    "    efficientnet.trainable = False  \n",
    "\n",
    "    # Load Xception\n",
    "    xception = Xception(\n",
    "        weights='imagenet',\n",
    "        include_top=False,\n",
    "        input_shape=(224, 224, 3)\n",
    "    )\n",
    "    xception.trainable = False  \n",
    "\n",
    "    # Input layer\n",
    "    input_layer = tf.keras.Input(shape=(224, 224, 3))\n",
    "\n",
    "    # Pass input through both models\n",
    "    efficientnet_output = efficientnet(input_layer)\n",
    "    xception_output = xception(input_layer)\n",
    "\n",
    "    \n",
    "    efficientnet_pool = GlobalAveragePooling2D()(efficientnet_output)\n",
    "    xception_pool = GlobalAveragePooling2D()(xception_output)\n",
    "\n",
    "    \n",
    "    merged = concatenate([efficientnet_pool, xception_pool])\n",
    "\n",
    "    \n",
    "    x = BatchNormalization()(merged)\n",
    "    x = Dense(128, activation='relu')(x) \n",
    "    x = Dropout(0.7)(x)\n",
    "    output = Dense(1, activation='sigmoid')(x)\n",
    "\n",
    "   \n",
    "    model = Model(inputs=input_layer, outputs=output)\n",
    "\n",
    "    return model"
   ]
  },
  {
   "cell_type": "code",
   "execution_count": 104,
   "metadata": {},
   "outputs": [],
   "source": [
    "model = create_hybrid_model()"
   ]
  },
  {
   "cell_type": "code",
   "execution_count": 105,
   "metadata": {},
   "outputs": [],
   "source": [
    "model.compile(\n",
    "    optimizer='adam',\n",
    "    loss='binary_crossentropy',\n",
    "    metrics=['accuracy']\n",
    ")"
   ]
  },
  {
   "cell_type": "code",
   "execution_count": 106,
   "metadata": {},
   "outputs": [],
   "source": [
    "early_stopping = EarlyStopping(\n",
    "    monitor='val_loss', \n",
    "    patience=3,  \n",
    "    restore_best_weights=True \n",
    ")"
   ]
  },
  {
   "cell_type": "code",
   "execution_count": 107,
   "metadata": {},
   "outputs": [
    {
     "name": "stdout",
     "output_type": "stream",
     "text": [
      "Epoch 1/5\n",
      "\u001b[1m32/32\u001b[0m \u001b[32m━━━━━━━━━━━━━━━━━━━━\u001b[0m\u001b[37m\u001b[0m \u001b[1m1225s\u001b[0m 39s/step - accuracy: 0.5900 - loss: 0.9796 - val_accuracy: 0.9270 - val_loss: 0.2056\n",
      "Epoch 2/5\n",
      "\u001b[1m32/32\u001b[0m \u001b[32m━━━━━━━━━━━━━━━━━━━━\u001b[0m\u001b[37m\u001b[0m \u001b[1m1180s\u001b[0m 38s/step - accuracy: 0.8974 - loss: 0.3636 - val_accuracy: 0.9429 - val_loss: 0.1476\n",
      "Epoch 3/5\n",
      "\u001b[1m32/32\u001b[0m \u001b[32m━━━━━━━━━━━━━━━━━━━━\u001b[0m\u001b[37m\u001b[0m \u001b[1m1163s\u001b[0m 37s/step - accuracy: 0.9155 - loss: 0.2849 - val_accuracy: 0.9416 - val_loss: 0.1298\n",
      "Epoch 4/5\n",
      "\u001b[1m32/32\u001b[0m \u001b[32m━━━━━━━━━━━━━━━━━━━━\u001b[0m\u001b[37m\u001b[0m \u001b[1m1158s\u001b[0m 37s/step - accuracy: 0.9160 - loss: 0.2693 - val_accuracy: 0.9453 - val_loss: 0.1144\n",
      "Epoch 5/5\n",
      "\u001b[1m32/32\u001b[0m \u001b[32m━━━━━━━━━━━━━━━━━━━━\u001b[0m\u001b[37m\u001b[0m \u001b[1m1168s\u001b[0m 38s/step - accuracy: 0.9304 - loss: 0.1939 - val_accuracy: 0.9613 - val_loss: 0.0937\n"
     ]
    }
   ],
   "source": [
    "history = model.fit(\n",
    "    train_generator,\n",
    "    steps_per_epoch=32,  \n",
    "    validation_data=val_generator,\n",
    "    validation_steps=len(val_paths) // BATCH_SIZE, \n",
    "    epochs=5,  \n",
    "    callbacks=[early_stopping]  \n",
    ")"
   ]
  },
  {
   "cell_type": "code",
   "execution_count": null,
   "metadata": {},
   "outputs": [],
   "source": [
    "# Test generator\n",
    "test_datagen = ImageDataGenerator(rescale=1./255)\n",
    "\n",
    "test_generator = generate_data_from_paths(\n",
    "    test_paths, test_labels, test_datagen, BATCH_SIZE, is_training=False\n",
    ")"
   ]
  },
  {
   "cell_type": "code",
   "execution_count": null,
   "metadata": {},
   "outputs": [
    {
     "name": "stdout",
     "output_type": "stream",
     "text": [
      "\u001b[1m290/290\u001b[0m \u001b[32m━━━━━━━━━━━━━━━━━━━━\u001b[0m\u001b[37m\u001b[0m \u001b[1m1062s\u001b[0m 4s/step - accuracy: 0.9604 - loss: 0.0904\n",
      "Validation Loss: 0.0938800498843193\n",
      "Validation Accuracy: 0.9613015055656433\n"
     ]
    }
   ],
   "source": [
    "val_loss, val_accuracy = model.evaluate(test_generator, steps=len(test_paths) // BATCH_SIZE)\n",
    "print(f\"Validation Loss: {val_loss}\")\n",
    "print(f\"Validation Accuracy: {val_accuracy}\")"
   ]
  },
  {
   "cell_type": "code",
   "execution_count": 114,
   "metadata": {},
   "outputs": [
    {
     "name": "stderr",
     "output_type": "stream",
     "text": [
      "WARNING:absl:You are saving your model as an HDF5 file via `model.save()` or `keras.saving.save_model(model)`. This file format is considered legacy. We recommend using instead the native Keras format, e.g. `model.save('my_model.keras')` or `keras.saving.save_model(model, 'my_model.keras')`. \n"
     ]
    }
   ],
   "source": [
    "model.save('deepfake_detection_model.h5')"
   ]
  },
  {
   "cell_type": "code",
   "execution_count": 115,
   "metadata": {},
   "outputs": [
    {
     "data": {
      "image/png": "[encoded data removed]",
      "text/plain": [
       "<Figure size 1200x400 with 2 Axes>"
      ]
     },
     "metadata": {},
     "output_type": "display_data"
    }
   ],
   "source": [
    "import matplotlib.pyplot as plt\n",
    "\n",
    "# Plot training and validation loss\n",
    "plt.figure(figsize=(12, 4))\n",
    "\n",
    "# Loss curve\n",
    "plt.subplot(1, 2, 1)\n",
    "plt.plot(history.history['loss'], label='Training Loss')\n",
    "plt.plot(history.history['val_loss'], label='Validation Loss')\n",
    "plt.title('Training and Validation Loss')\n",
    "plt.xlabel('Epochs')\n",
    "plt.ylabel('Loss')\n",
    "plt.legend()\n",
    "\n",
    "# Accuracy curve\n",
    "plt.subplot(1, 2, 2)\n",
    "plt.plot(history.history['accuracy'], label='Training Accuracy')\n",
    "plt.plot(history.history['val_accuracy'], label='Validation Accuracy')\n",
    "plt.title('Training and Validation Accuracy')\n",
    "plt.xlabel('Epochs')\n",
    "plt.ylabel('Accuracy')\n",
    "plt.legend()\n",
    "\n",
    "plt.show()"
   ]
  },
  {
   "cell_type": "code",
   "execution_count": 117,
   "metadata": {},
   "outputs": [],
   "source": []
  },
  {
   "cell_type": "markdown",
   "metadata": {},
   "source": []
  }
 ],
 "metadata": {
  "kernelspec": {
   "display_name": "venv",
   "language": "python",
   "name": "python3"
  },
  "language_info": {
   "codemirror_mode": {
    "name": "ipython",
    "version": 3
   },
   "file_extension": ".py",
   "mimetype": "text/x-python",
   "name": "python",
   "nbconvert_exporter": "python",
   "pygments_lexer": "ipython3",
   "version": "3.10.11"
  }
 },
 "nbformat": 4,
 "nbformat_minor": 2
}
